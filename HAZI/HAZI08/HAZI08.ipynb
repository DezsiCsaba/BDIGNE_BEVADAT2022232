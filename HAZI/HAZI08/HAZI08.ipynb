{
 "cells": [
  {
   "cell_type": "code",
   "execution_count": null,
   "metadata": {},
   "outputs": [],
   "source": [
    "import numpy as np\n",
    "import matplotlib.pyplot as plt\n",
    "import pandas as pd\n",
    "import sklearn as skl\n",
    "from typing import Tuple\n",
    "\n",
    "from sklearn.datasets import load_iris\n",
    "from sklearn.model_selection import train_test_split\n",
    "from sklearn.linear_model import LinearRegression, LogisticRegression\n",
    "from sklearn.metrics import mean_squared_error"
   ]
  },
  {
   "cell_type": "code",
   "execution_count": null,
   "metadata": {},
   "outputs": [],
   "source": [
    "'''\n",
    "Készíts egy függvényt, betölti majd vissza adja az iris adathalmazt.\n",
    "\n",
    "\n",
    "Egy példa a kimenetre: iris\n",
    "return type: sklearn.utils.Bunch\n",
    "függvény neve: load_iris_data\n",
    "'''"
   ]
  },
  {
   "cell_type": "code",
   "execution_count": null,
   "metadata": {},
   "outputs": [],
   "source": [
    "#1\n",
    "def load_iris_data() -> skl.utils.Bunch:\n",
    "    return load_iris()\n",
    "\n",
    "irisData = load_iris_data()\n",
    "#print(irisData)"
   ]
  },
  {
   "cell_type": "code",
   "execution_count": null,
   "metadata": {},
   "outputs": [],
   "source": [
    "'''\n",
    "Készíts egy függvényt, ami a betölti az virágokhoz tartozó levél méretket egy dataframebe, majd az első 5 sort visszaadja.\n",
    "Minden oszlop tartalmazza, hogy az milyen mérethez tartozik.\n",
    "\n",
    "Egy példa a bemenetre: iris\n",
    "Egy példa a kimenetre: iris_df\n",
    "return type: pandas.core.frame.DataFrame\n",
    "függvény neve: check_data\n",
    "'''"
   ]
  },
  {
   "cell_type": "code",
   "execution_count": null,
   "metadata": {},
   "outputs": [],
   "source": [
    "#2\n",
    "def check_data(iris) -> pd.core.frame.DataFrame:\n",
    "    iris_df = pd.DataFrame(iris.data, columns=iris.feature_names).head(5)\n",
    "    return iris_df\n",
    "\n",
    "check_data(irisData)"
   ]
  },
  {
   "cell_type": "code",
   "execution_count": null,
   "metadata": {},
   "outputs": [],
   "source": [
    "''' \n",
    "Készíts egy függvényt ami előkészíti az adatokat egy lineaáris regressziós model feltanításához.\n",
    "Featurejeink legyenek a levél méretek kivéve a \"sepal length (cm)\", ez legyen a targetünk.\n",
    "\n",
    "Egy példa a bemenetre: iris\n",
    "Egy példa a kimenetre: X, y\n",
    "return type: (numpy.ndarray, numpy.ndarray)\n",
    "függvény neve: linear_train_data\n",
    "'''"
   ]
  },
  {
   "cell_type": "code",
   "execution_count": null,
   "metadata": {},
   "outputs": [],
   "source": [
    "#3\n",
    "def linear_train_data(iris) -> Tuple[np.ndarray, np.ndarray]:\n",
    "    df = pd.DataFrame(iris.data, columns=iris.feature_names)\n",
    "    X = df[['sepal width (cm)', 'petal length (cm)', 'petal width (cm)']].values\n",
    "    y = df['sepal length (cm)'].values\n",
    "    return X, y\n",
    "\n",
    "linear_train_data(irisData)"
   ]
  },
  {
   "cell_type": "code",
   "execution_count": null,
   "metadata": {},
   "outputs": [],
   "source": [
    "''' \n",
    "Készíts egy függvényt ami előkészíti az adatokat egy logisztikus regressziós model feltanításához.\n",
    "Featurejeink legyenek a levél méretek, targetünk pedig a 0, 1-es virág osztályok.\n",
    "Fontos csak azokkal az adatokkal tanítsunk amihez tartozik adott target. \n",
    "\n",
    "Egy példa a bemenetre: iris\n",
    "Egy példa a kimenetre: X, y\n",
    "return type: (numpy.ndarray, numpy.ndarray)\n",
    "függvény neve: logistic_train_data\n",
    "'''"
   ]
  },
  {
   "cell_type": "code",
   "execution_count": null,
   "metadata": {},
   "outputs": [],
   "source": [
    "#4\n",
    "def logistic_train_data(iris) -> Tuple[np.ndarray, np.ndarray]:\n",
    "    df = pd.DataFrame(iris.data, columns=iris.feature_names)\n",
    "    X = df.loc[np.where(iris.target < 2)].values\n",
    "    y = iris.target[np.where(iris.target < 2)]\n",
    "    return X,y\n",
    "\n",
    "X,y = logistic_train_data(irisData)"
   ]
  },
  {
   "cell_type": "code",
   "execution_count": null,
   "metadata": {},
   "outputs": [],
   "source": [
    "'''\n",
    "Készíts egy függvényt ami feldarabolja az adatainkat train és test részre. Az adatok 20%-át használjuk fel a teszteléshez.\n",
    "Tegyük determenisztikussá a darabolást, ennek értéke legyen 42.\n",
    "\n",
    "Egy példa a bemenetre: X, y\n",
    "Egy példa a kimenetre: X_train, X_test, y_train, y_test\n",
    "return type: (numpy.ndarray, numpy.ndarray, numpy.ndarray, numpy.ndarray)\n",
    "függvény neve: split_data\n",
    "'''"
   ]
  },
  {
   "cell_type": "code",
   "execution_count": null,
   "metadata": {},
   "outputs": [],
   "source": [
    "#5\n",
    "def split_data(X, y) -> Tuple[np.ndarray, np.ndarray, np.ndarray, np.ndarray]:\n",
    "    split = train_test_split(X, y, test_size=0.2, random_state=42)\n",
    "    return split\n",
    "\n",
    "X_train, X_test, y_train, y_test = split_data(X,y)"
   ]
  },
  {
   "cell_type": "code",
   "execution_count": null,
   "metadata": {},
   "outputs": [],
   "source": [
    "'''\n",
    "Készíts egy függvényt ami feltanít egy lineaáris regressziós modelt, majd visszatér vele.\n",
    "\n",
    "Egy példa a bemenetre: X_train, y_train\n",
    "Egy példa a kimenetre: model\n",
    "return type: sklearn.linear_model._base.LinearRegression\n",
    "függvény neve: train_linear_regression\n",
    "'''"
   ]
  },
  {
   "cell_type": "code",
   "execution_count": null,
   "metadata": {},
   "outputs": [],
   "source": [
    "#6\n",
    "def train_linear_regression(X_train, y_train) -> skl.linear_model._base.LinearRegression:\n",
    "    model = LinearRegression().fit(X_train, y_train)\n",
    "    return model\n",
    "\n",
    "lin_model = train_linear_regression(X_train, y_train)"
   ]
  },
  {
   "cell_type": "code",
   "execution_count": null,
   "metadata": {},
   "outputs": [],
   "source": [
    "'''\n",
    "Készíts egy függvényt ami feltanít egy logisztikus regressziós modelt, majd visszatér vele.\n",
    "\n",
    "Egy példa a bemenetre: X_train, y_train\n",
    "Egy példa a kimenetre: model\n",
    "return type: sklearn.linear_model._base.LogisticRegression\n",
    "függvény neve: train_logistic_regression\n",
    "'''"
   ]
  },
  {
   "cell_type": "code",
   "execution_count": null,
   "metadata": {},
   "outputs": [],
   "source": [
    "#7\n",
    "def train_logistic_regression(X_train, y_train) -> skl.linear_model._logistic.LogisticRegression:\n",
    "    model = LogisticRegression(solver='liblinear', random_state=42).fit(X_train, y_train)\n",
    "    return model\n",
    "\n",
    "log_model = train_logistic_regression(X_train, y_train)"
   ]
  },
  {
   "cell_type": "code",
   "execution_count": null,
   "metadata": {},
   "outputs": [],
   "source": [
    "''' \n",
    "Készíts egy függvényt, ami a feltanított modellel predikciót tud végre hajtani.\n",
    "\n",
    "Egy példa a bemenetre: model, X_test\n",
    "Egy példa a kimenetre: y_pred\n",
    "return type: numpy.ndarray\n",
    "függvény neve: predict\n",
    "'''"
   ]
  },
  {
   "cell_type": "code",
   "execution_count": null,
   "metadata": {},
   "outputs": [],
   "source": [
    "#8\n",
    "def predict(model, X_test) -> np.ndarray:\n",
    "    y_pred =  model.predict(X_test)\n",
    "    return y_pred\n",
    "\n",
    "print(predict(lin_model, X_test))\n",
    "print(predict(log_model, X_test))"
   ]
  },
  {
   "cell_type": "code",
   "execution_count": null,
   "metadata": {},
   "outputs": [],
   "source": [
    "'''\n",
    "Készíts egy függvényt, ami vizualizálni tudja a label és a predikciók közötti eltérést.\n",
    "Használj scatter plotot a diagram elkészítéséhez.\n",
    "\n",
    "Diagram címe legyen: 'Actual vs Predicted Target Values'\n",
    "Az x tengely címe legyen: 'Actual'\n",
    "Az y tengely címe legyen: 'Predicted'\n",
    "\n",
    "Egy példa a bemenetre: y_test, y_pred\n",
    "Egy példa a kimenetre: scatter plot\n",
    "return type: matplotlib.figure.Figure\n",
    "függvény neve: plot_actual_vs_predicted\n",
    "'''"
   ]
  },
  {
   "cell_type": "code",
   "execution_count": null,
   "metadata": {},
   "outputs": [],
   "source": [
    "#9\n",
    "def plot_actual_vs_predicted():\n",
    "    pass"
   ]
  },
  {
   "cell_type": "code",
   "execution_count": null,
   "metadata": {},
   "outputs": [],
   "source": [
    "''' \n",
    "Készíts egy függvényt, ami a Négyzetes hiba (MSE) értékét számolja ki a predikciók és a valós értékek között.\n",
    "\n",
    "Egy példa a bemenetre: y_test, y_pred\n",
    "Egy példa a kimenetre: mse\n",
    "return type: float\n",
    "függvény neve: evaluate_model\n",
    "'''"
   ]
  },
  {
   "cell_type": "code",
   "execution_count": null,
   "metadata": {},
   "outputs": [],
   "source": [
    "#10\n",
    "def evaluate_model():\n",
    "    pass"
   ]
  }
 ],
 "metadata": {
  "kernelspec": {
   "display_name": "Python 3",
   "language": "python",
   "name": "python3"
  },
  "language_info": {
   "codemirror_mode": {
    "name": "ipython",
    "version": 3
   },
   "file_extension": ".py",
   "mimetype": "text/x-python",
   "name": "python",
   "nbconvert_exporter": "python",
   "pygments_lexer": "ipython3",
   "version": "3.10.2"
  },
  "orig_nbformat": 4
 },
 "nbformat": 4,
 "nbformat_minor": 2
}
