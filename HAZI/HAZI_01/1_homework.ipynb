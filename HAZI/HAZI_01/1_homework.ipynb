{
 "cells": [
  {
   "cell_type": "code",
   "execution_count": null,
   "metadata": {},
   "outputs": [],
   "source": [
    "#Create a function that returns with a subsest of a list.\n",
    "#The subset's starting and ending indexes should be set as input parameters (the list aswell).\n",
    "#return type: list\n",
    "#function name must be: subset\n",
    "#input parameters: input_list,start_index,end_index"
   ]
  },
  {
   "cell_type": "code",
   "execution_count": 5,
   "metadata": {},
   "outputs": [
    {
     "data": {
      "text/plain": [
       "[1, 2]"
      ]
     },
     "execution_count": 5,
     "metadata": {},
     "output_type": "execute_result"
    }
   ],
   "source": [
    "def subset(input_list, start_index, end_index):\n",
    "    output = []\n",
    "    for i in range(len(input_list)):\n",
    "        if (i >= start_index and i < end_index):\n",
    "            output.append(input_list[i])\n",
    "    return output\n",
    "\n",
    "subset([0,1,2,3,4], 1, 3)"
   ]
  },
  {
   "cell_type": "code",
   "execution_count": null,
   "metadata": {},
   "outputs": [],
   "source": [
    "#Create a function that returns every nth element of a list.\n",
    "#return type: list\n",
    "#function name must be: every_nth\n",
    "#input parameters: input_list,step_size"
   ]
  },
  {
   "cell_type": "code",
   "execution_count": 17,
   "metadata": {},
   "outputs": [
    {
     "data": {
      "text/plain": [
       "[2, 5, 8]"
      ]
     },
     "execution_count": 17,
     "metadata": {},
     "output_type": "execute_result"
    }
   ],
   "source": [
    "def every_nth(input_list,step_size):\n",
    "    output = []\n",
    "    for i in range(len(input_list)):\n",
    "        if ((i+1) % step_size == 0):\n",
    "            output.append(input_list[i])\n",
    "    return output\n",
    "\n",
    "every_nth([0,1,2,3,4,5,6,7,8,9], 3)"
   ]
  },
  {
   "cell_type": "code",
   "execution_count": null,
   "metadata": {},
   "outputs": [],
   "source": [
    "#Create a function that can decide whether a list contains unique values or not\n",
    "#return type: bool\n",
    "#function name must be: unique\n",
    "#input parameters: input_list"
   ]
  },
  {
   "cell_type": "code",
   "execution_count": 25,
   "metadata": {},
   "outputs": [
    {
     "data": {
      "text/plain": [
       "False"
      ]
     },
     "execution_count": 25,
     "metadata": {},
     "output_type": "execute_result"
    }
   ],
   "source": [
    "def unique(input_list):\n",
    "    out = []\n",
    "    for item in input_list:\n",
    "        if (item in out):\n",
    "            return False\n",
    "        else : out.append(item)\n",
    "    return True\n",
    "unique([1,2,3,4,1])"
   ]
  },
  {
   "cell_type": "code",
   "execution_count": null,
   "metadata": {},
   "outputs": [],
   "source": [
    "#Create a function that can flatten a nested list ([[..],[..],..])\n",
    "#return type: list\n",
    "#fucntion name must be: flatten\n",
    "#input parameters: input_list"
   ]
  },
  {
   "cell_type": "code",
   "execution_count": 29,
   "metadata": {},
   "outputs": [
    {
     "data": {
      "text/plain": [
       "[1, 2, 1, 2, 1, 2]"
      ]
     },
     "execution_count": 29,
     "metadata": {},
     "output_type": "execute_result"
    }
   ],
   "source": [
    "def flatten(input_list):\n",
    "    out = []\n",
    "    for nested in input_list:\n",
    "        for mini in nested:\n",
    "            out.append(mini)\n",
    "    return out\n",
    "flatten([[1,2],[1,2],[1,2]])"
   ]
  },
  {
   "cell_type": "code",
   "execution_count": null,
   "metadata": {},
   "outputs": [],
   "source": [
    "#Create a function that concatenates n lists\n",
    "#return type: list\n",
    "#function name must be: merge_lists\n",
    "#input parameters: *args\n"
   ]
  },
  {
   "cell_type": "code",
   "execution_count": 31,
   "metadata": {},
   "outputs": [
    {
     "data": {
      "text/plain": [
       "[1, 2, 3, 4, 5, 6]"
      ]
     },
     "execution_count": 31,
     "metadata": {},
     "output_type": "execute_result"
    }
   ],
   "source": [
    "def merge_list(*args):\n",
    "    out = []\n",
    "    for item in args:\n",
    "        out += item\n",
    "    return out\n",
    "\n",
    "merge_list([1,2],[3,4],[5,6])"
   ]
  },
  {
   "cell_type": "code",
   "execution_count": null,
   "metadata": {},
   "outputs": [],
   "source": [
    "#Create a function that can reverse a list of tuples\n",
    "#example [(1,2),...] => [(2,1),...]\n",
    "#return type: list\n",
    "#fucntion name must be: reverse_tuples\n",
    "#input parameters: input_list"
   ]
  },
  {
   "cell_type": "code",
   "execution_count": 34,
   "metadata": {},
   "outputs": [
    {
     "data": {
      "text/plain": [
       "[('y', 'x'), ('b', 'a'), ('c', 'b')]"
      ]
     },
     "execution_count": 34,
     "metadata": {},
     "output_type": "execute_result"
    }
   ],
   "source": [
    "def reverse_tuples(input_list):\n",
    "    out = []\n",
    "    for tuple in input_list:\n",
    "        newtuple = (tuple[1], tuple[0])\n",
    "        out.append(newtuple)\n",
    "    return out\n",
    "\n",
    "reverse_tuples([(\"x\", \"y\"),(\"a\", \"b\"),(\"b\", \"c\")])"
   ]
  },
  {
   "cell_type": "code",
   "execution_count": null,
   "metadata": {},
   "outputs": [],
   "source": [
    "#Create a function that removes duplicates from a list\n",
    "#return type: list\n",
    "#fucntion name must be: remove_tuplicates\n",
    "#input parameters: input_list"
   ]
  },
  {
   "cell_type": "code",
   "execution_count": 37,
   "metadata": {},
   "outputs": [
    {
     "data": {
      "text/plain": [
       "[1, 2, 3, 4, 5]"
      ]
     },
     "execution_count": 37,
     "metadata": {},
     "output_type": "execute_result"
    }
   ],
   "source": [
    "def remove_tuplicates(input_list):\n",
    "    out = []\n",
    "    for item in input_list:\n",
    "        if (item not in out):\n",
    "            out.append(item)\n",
    "    return out\n",
    "\n",
    "remove_tuplicates([1,2,3,4,5,2,3,4])"
   ]
  },
  {
   "cell_type": "code",
   "execution_count": 62,
   "metadata": {},
   "outputs": [],
   "source": [
    "#Create a function that transposes a nested list (matrix)\n",
    "#return type: list\n",
    "#function name must be: transpose\n",
    "#input parameters: input_list"
   ]
  },
  {
   "cell_type": "code",
   "execution_count": 64,
   "metadata": {},
   "outputs": [
    {
     "data": {
      "text/plain": [
       "[[0, 2, 4], [1, 3, 5]]"
      ]
     },
     "execution_count": 64,
     "metadata": {},
     "output_type": "execute_result"
    }
   ],
   "source": [
    "#I want numpy :(\n",
    "def transpose(input_list):\n",
    "    out = []\n",
    "\n",
    "    for i in range(len(input_list)):\n",
    "        for j in range(len(input_list[i])):\n",
    "            if len(out) < len(input_list[i]):\n",
    "                out.append([])\n",
    "\n",
    "            out[j].append(input_list[i][j])\n",
    "\n",
    "    return out\n",
    "\n",
    "transpose([[0,1],[2,3],[4,5]])"
   ]
  },
  {
   "cell_type": "code",
   "execution_count": null,
   "metadata": {},
   "outputs": [],
   "source": [
    "#Create a function that can split a nested list into chunks\n",
    "#chunk size is given by parameter\n",
    "#return type: list\n",
    "#function name must be: split_into_chunks\n",
    "#input parameters: input_list,chunk_size"
   ]
  },
  {
   "cell_type": "code",
   "execution_count": 72,
   "metadata": {},
   "outputs": [
    {
     "data": {
      "text/plain": [
       "[[0, 1], [2, 3], [4, 5]]"
      ]
     },
     "execution_count": 72,
     "metadata": {},
     "output_type": "execute_result"
    }
   ],
   "source": [
    "def split_into_chunks(input_list,chunk_size):\n",
    "    flat = []\n",
    "    out = []\n",
    "    for nested in input_list:\n",
    "        for mini in nested:\n",
    "            flat.append(mini)\n",
    "\n",
    "    chunk = []\n",
    "    for i in range(len(flat)):\n",
    "        chunk.append(flat[i])\n",
    "        if ((i+1) % chunk_size == 0):\n",
    "            out.append(chunk)\n",
    "            chunk = []\n",
    "    if (len(chunk) != 0):\n",
    "        out.append(chunk)\n",
    "    return out\n",
    "\n",
    "split_into_chunks([[0,1],[2,3],[4,5]], 2)"
   ]
  },
  {
   "cell_type": "code",
   "execution_count": null,
   "metadata": {},
   "outputs": [],
   "source": [
    "#Create a function that can merge n dictionaries\n",
    "#return type: dictionary\n",
    "#function name must be: merge_dicts\n",
    "#input parameters: *dict"
   ]
  },
  {
   "cell_type": "code",
   "execution_count": 78,
   "metadata": {},
   "outputs": [
    {
     "data": {
      "text/plain": [
       "{'brand': 'Ford',\n",
       " 'model': 'Mustang',\n",
       " 'conference': 'Western',\n",
       " 'Division': 'Pacific'}"
      ]
     },
     "execution_count": 78,
     "metadata": {},
     "output_type": "execute_result"
    }
   ],
   "source": [
    "def merge_dicts(*dict):\n",
    "    out={}\n",
    "    for d in dict:\n",
    "        for x,y in d.items():\n",
    "            out[x] = y\n",
    "    return out\n",
    "\n",
    "merge_dicts({\n",
    "  \"brand\": \"Ford\",\n",
    "  \"model\": \"Mustang\",\n",
    "},{\n",
    "  \"conference\" : \"Western\",\n",
    "  \"Division\": \"Pacific\",\n",
    "})"
   ]
  },
  {
   "cell_type": "code",
   "execution_count": null,
   "metadata": {},
   "outputs": [],
   "source": [
    "#Create a function that receives a list of integers and sort them by parity\n",
    "#and returns with a dictionary like this: {\"even\":[...],\"odd\":[...]}\n",
    "#return type: dict\n",
    "#function name must be: by_parity\n",
    "#input parameters: input_list"
   ]
  },
  {
   "cell_type": "code",
   "execution_count": 84,
   "metadata": {},
   "outputs": [
    {
     "data": {
      "text/plain": [
       "{'even': [2, 4, 6], 'odd': [1, 3, 5, 7]}"
      ]
     },
     "execution_count": 84,
     "metadata": {},
     "output_type": "execute_result"
    }
   ],
   "source": [
    "def by_parity(input_list):\n",
    "    out={\"even\": [], \"odd\":[]}\n",
    "    even = []\n",
    "    odd = []\n",
    "    for num in input_list:\n",
    "        if (num % 2 == 0):\n",
    "            even.append(num)\n",
    "        else: odd.append(num)\n",
    "    out[\"even\"] = even\n",
    "    out[\"odd\"] = odd\n",
    "    return out\n",
    "\n",
    "by_parity([1,2,3,4,5,6,7])"
   ]
  },
  {
   "cell_type": "code",
   "execution_count": null,
   "metadata": {},
   "outputs": [],
   "source": [
    "#Create a function that receives a dictionary like this: {\"some_key\":[1,2,3,4],\"another_key\":[1,2,3,4],....}\n",
    "#and return a dictionary like this : {\"some_key\":mean_of_values,\"another_key\":mean_of_values,....}\n",
    "#in short calculates the mean of the values key wise\n",
    "#return type: dict\n",
    "#function name must be: mean_key_value\n",
    "#input parameters: input_dict"
   ]
  },
  {
   "cell_type": "code",
   "execution_count": 89,
   "metadata": {},
   "outputs": [
    {
     "data": {
      "text/plain": [
       "{'even': 4.0, 'odd': 4.0}"
      ]
     },
     "execution_count": 89,
     "metadata": {},
     "output_type": "execute_result"
    }
   ],
   "source": [
    "def mean_key_value(input_dict):\n",
    "    out = {}\n",
    "    for key in input_dict.keys():\n",
    "        group = []\n",
    "        for item in input_dict[key]:\n",
    "            group.append(item)\n",
    "        mean = 0\n",
    "        ct = 0\n",
    "        for i in range(len(group)):\n",
    "            mean += group[i]\n",
    "            ct += 1\n",
    "        mean = mean / ct\n",
    "        out[key] = mean\n",
    "    return out\n",
    "\n",
    "mean_key_value({\"even\": [2, 4, 6, 8], \"odd\": [1, 3, 5, 7]})"
   ]
  },
  {
   "cell_type": "code",
   "execution_count": null,
   "metadata": {},
   "outputs": [],
   "source": [
    "#If all the functions are created convert this notebook into a .py file and push to your repo"
   ]
  }
 ],
 "metadata": {
  "kernelspec": {
   "display_name": "Python 3",
   "language": "python",
   "name": "python3"
  },
  "language_info": {
   "codemirror_mode": {
    "name": "ipython",
    "version": 3
   },
   "file_extension": ".py",
   "mimetype": "text/x-python",
   "name": "python",
   "nbconvert_exporter": "python",
   "pygments_lexer": "ipython3",
   "version": "3.10.2"
  },
  "orig_nbformat": 4,
  "vscode": {
   "interpreter": {
    "hash": "c0c6298d94c85f8333144cb060589260a7caa3af4ddfb829d544c1f7eb933ad3"
   }
  }
 },
 "nbformat": 4,
 "nbformat_minor": 2
}
