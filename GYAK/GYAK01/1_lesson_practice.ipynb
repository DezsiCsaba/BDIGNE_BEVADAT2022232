{
 "cells": [
  {
   "cell_type": "code",
   "execution_count": 25,
   "metadata": {},
   "outputs": [],
   "source": [
    "#Create a function that decides if a list contains any odd numbers.\n",
    "#return type: bool\n",
    "#function name must be: contains_odd\n",
    "#input parameters: input_list"
   ]
  },
  {
   "cell_type": "code",
   "execution_count": 3,
   "metadata": {},
   "outputs": [
    {
     "data": {
      "text/plain": [
       "True"
      ]
     },
     "execution_count": 3,
     "metadata": {},
     "output_type": "execute_result"
    }
   ],
   "source": [
    "def contains_odd(input_list):\n",
    "    #isOdd = False\n",
    "    for i in range(len(input_list)):\n",
    "        if (input_list[i] % 2 != 0):\n",
    "            #isOdd = True\n",
    "            return True\n",
    "    return False\n",
    "\n",
    "#contains_odd([1,2,3,4,5])    "
   ]
  },
  {
   "cell_type": "code",
   "execution_count": 27,
   "metadata": {},
   "outputs": [],
   "source": [
    "#Create a function that accepts a list of integers, and returns a list of bool.\n",
    "#The return list should be a \"mask\" and indicate whether the list element is odd or not.\n",
    "#(return should look like this: [True,False,False,.....])\n",
    "#return type: list\n",
    "#function name must be: is_odd\n",
    "#input parameters: input_list"
   ]
  },
  {
   "cell_type": "code",
   "execution_count": 7,
   "metadata": {},
   "outputs": [
    {
     "data": {
      "text/plain": [
       "[False, True, False, True, False]"
      ]
     },
     "execution_count": 7,
     "metadata": {},
     "output_type": "execute_result"
    }
   ],
   "source": [
    "def is_odd(input_list):\n",
    "    for i in range(len(input_list)):\n",
    "        if input_list[i] % 2 == 0:\n",
    "            input_list[i] = True\n",
    "        else:\n",
    "            input_list[i] = False\n",
    "    return input_list\n",
    "\n",
    "#is_odd([1,2,3,4,5])"
   ]
  },
  {
   "cell_type": "code",
   "execution_count": 29,
   "metadata": {},
   "outputs": [],
   "source": [
    "\n",
    "#Create a function that accpects 2 lists of integers and returns their element wise sum. <br>\n",
    "#(return should be a list)\n",
    "#return type: list\n",
    "#function name must be: element_wise_sum\n",
    "#input parameters: input_list_1, input_list_2"
   ]
  },
  {
   "cell_type": "code",
   "execution_count": 8,
   "metadata": {},
   "outputs": [
    {
     "data": {
      "text/plain": [
       "[2, 3, 4, 5, 1]"
      ]
     },
     "execution_count": 8,
     "metadata": {},
     "output_type": "execute_result"
    }
   ],
   "source": [
    "def element_wise_sum(input_list_1, input_list_2):\n",
    "    output=[]\n",
    "    ct1 = 0\n",
    "    ct2 = 0\n",
    "    for i in range(len(input_list_1)):\n",
    "        output.append(input_list_1[i])\n",
    "        ct1 += 1\n",
    "    for i in range(len(input_list_2)):\n",
    "        if (i < len(output)):\n",
    "            output[i] = output[i] + input_list_2[i]\n",
    "        else: output.append(input_list_2[i])\n",
    "        ct2 += 1\n",
    "    \n",
    "    if (ct1 > ct2):\n",
    "        while ct1 < len(input_list_1):\n",
    "            output.append(input_list_1[ct1])\n",
    "            ct1 += 1\n",
    "    if (ct1 < ct2):\n",
    "        while ct2 < len(input_list_2):\n",
    "            output.append(input_list_2[ct2])\n",
    "            ct2 += 1\n",
    "\n",
    "    return output\n",
    "\n",
    "#element_wise_sum([1,2,3,4], [1,1,1,1,1])\n"
   ]
  },
  {
   "cell_type": "code",
   "execution_count": 31,
   "metadata": {},
   "outputs": [],
   "source": [
    "#Create a function that accepts a dictionary and returns its items as a list of tuples\n",
    "#(return should look like this: [(key,value),(key,value),....])\n",
    "#return type: list\n",
    "#function name must be: dict_to_list\n",
    "#input parameters: input_dict"
   ]
  },
  {
   "cell_type": "code",
   "execution_count": 9,
   "metadata": {},
   "outputs": [
    {
     "data": {
      "text/plain": [
       "[('conference', 'Western'),\n",
       " ('Division', 'Pacific'),\n",
       " ('Founded', 1946),\n",
       " ('Colors', ['Royal Blue', 'yellow']),\n",
       " ('GM', 'Bob Myers'),\n",
       " ('Head Coach', 'Steve Kerr')]"
      ]
     },
     "execution_count": 9,
     "metadata": {},
     "output_type": "execute_result"
    }
   ],
   "source": [
    "#input_dict = {\n",
    "#  \"conference\" : \"Western\",\n",
    "#  \"Division\": \"Pacific\",\n",
    "#  \"Founded\": 1946,\n",
    "#  \"Colors\": [\"Royal Blue\", \"yellow\"],\n",
    "#  \"GM\": \"Bob Myers\",\n",
    "#  \"Head Coach\": \"Steve Kerr\"\n",
    "#}\n",
    "\n",
    "def dict_to_list(input_dict):\n",
    "    output = []\n",
    "    for x, y in input_dict.items():\n",
    "        output.append((x,y))\n",
    "    return output\n",
    "\n",
    "#dict_to_list(input_dict)"
   ]
  },
  {
   "cell_type": "code",
   "execution_count": 33,
   "metadata": {},
   "outputs": [],
   "source": [
    "#If all the functions are created convert this notebook into a .py file and push to your repo"
   ]
  }
 ],
 "metadata": {
  "kernelspec": {
   "display_name": "Python 3",
   "language": "python",
   "name": "python3"
  },
  "language_info": {
   "codemirror_mode": {
    "name": "ipython",
    "version": 3
   },
   "file_extension": ".py",
   "mimetype": "text/x-python",
   "name": "python",
   "nbconvert_exporter": "python",
   "pygments_lexer": "ipython3",
   "version": "3.10.8"
  },
  "orig_nbformat": 4,
  "vscode": {
   "interpreter": {
    "hash": "9b0cb07c6ec0c895a1684a179750f6d505f651daec8c830d2830df856a098652"
   }
  }
 },
 "nbformat": 4,
 "nbformat_minor": 2
}
