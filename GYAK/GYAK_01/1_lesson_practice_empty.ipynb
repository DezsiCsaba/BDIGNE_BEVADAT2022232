{
 "cells": [
  {
   "cell_type": "code",
   "execution_count": null,
   "metadata": {},
   "outputs": [],
   "source": [
    "#Create a function that decides if a list contains any odd numbers.\n",
    "#return type: bool\n",
    "#function name must be: contains_odd\n",
    "#input parameters: input_list"
   ]
  },
  {
   "cell_type": "code",
   "execution_count": 7,
   "metadata": {},
   "outputs": [
    {
     "name": "stdout",
     "output_type": "stream",
     "text": [
      "True\n"
     ]
    }
   ],
   "source": [
    "input_list=[1,2,3,4,5]\n",
    "#input_list=[1,3,5,7,9]\n",
    "\n",
    "def contains_odd(inp_list):\n",
    "    isOdd = False\n",
    "    for i in range(len(inp_list)):\n",
    "        if (inp_list[i] % 2 == 0):\n",
    "            isOdd = True\n",
    "            return isOdd\n",
    "    return isOdd\n",
    "\n",
    "print(contains_odd(input_list))\n",
    "\n",
    "    "
   ]
  },
  {
   "cell_type": "code",
   "execution_count": null,
   "metadata": {},
   "outputs": [],
   "source": [
    "#Create a function that accepts a list of integers, and returns a list of bool.\n",
    "#The return list should be a \"mask\" and indicate whether the list element is odd or not.\n",
    "#(return should look like this: [True,False,False,.....])\n",
    "#return type: list\n",
    "#function name must be: is_odd\n",
    "#input parameters: input_list"
   ]
  },
  {
   "cell_type": "code",
   "execution_count": null,
   "metadata": {},
   "outputs": [],
   "source": []
  },
  {
   "cell_type": "code",
   "execution_count": null,
   "metadata": {},
   "outputs": [],
   "source": [
    "\n",
    "#Create a function that accpects 2 lists of integers and returns their element wise sum. <br>\n",
    "#(return should be a list)\n",
    "#return type: list\n",
    "#function name must be: element_wise_sum\n",
    "#input parameters: input_list_1, input_list_2"
   ]
  },
  {
   "cell_type": "code",
   "execution_count": null,
   "metadata": {},
   "outputs": [],
   "source": []
  },
  {
   "cell_type": "code",
   "execution_count": null,
   "metadata": {},
   "outputs": [],
   "source": [
    "#Create a function that accepts a dictionary and returns its items as a list of tuples\n",
    "#(return should look like this: [(key,value),(key,value),....])\n",
    "#return type: list\n",
    "#function name must be: dict_to_list\n",
    "#input parameters: input_dict"
   ]
  },
  {
   "cell_type": "code",
   "execution_count": null,
   "metadata": {},
   "outputs": [],
   "source": []
  },
  {
   "cell_type": "code",
   "execution_count": null,
   "metadata": {},
   "outputs": [],
   "source": [
    "#If all the functions are created convert this notebook into a .py file and push to your repo"
   ]
  }
 ],
 "metadata": {
  "kernelspec": {
   "display_name": "Python 3",
   "language": "python",
   "name": "python3"
  },
  "language_info": {
   "codemirror_mode": {
    "name": "ipython",
    "version": 3
   },
   "file_extension": ".py",
   "mimetype": "text/x-python",
   "name": "python",
   "nbconvert_exporter": "python",
   "pygments_lexer": "ipython3",
   "version": "3.10.8"
  },
  "orig_nbformat": 4,
  "vscode": {
   "interpreter": {
    "hash": "9b0cb07c6ec0c895a1684a179750f6d505f651daec8c830d2830df856a098652"
   }
  }
 },
 "nbformat": 4,
 "nbformat_minor": 2
}
