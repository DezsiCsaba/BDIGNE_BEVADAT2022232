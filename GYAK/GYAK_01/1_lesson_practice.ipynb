{
 "cells": [
  {
   "cell_type": "code",
   "execution_count": 25,
   "metadata": {},
   "outputs": [],
   "source": [
    "#Create a function that decides if a list contains any odd numbers.\n",
    "#return type: bool\n",
    "#function name must be: contains_odd\n",
    "#input parameters: input_list"
   ]
  },
  {
   "cell_type": "code",
   "execution_count": 26,
   "metadata": {},
   "outputs": [
    {
     "name": "stdout",
     "output_type": "stream",
     "text": [
      "True\n"
     ]
    }
   ],
   "source": [
    "input_list = [1,2,3,4,5]\n",
    "#input_list = [1,3,5,7,9]\n",
    "\n",
    "def contains_odd(input_list):\n",
    "    isOdd = False\n",
    "    for i in range(len(input_list)):\n",
    "        if (input_list[i] % 2 != 0):\n",
    "            isOdd = True\n",
    "            return isOdd\n",
    "    return isOdd\n",
    "\n",
    "contains_odd(input_list)\n",
    "#print(contains_odd(input_list))\n",
    "\n",
    "    "
   ]
  },
  {
   "cell_type": "code",
   "execution_count": 27,
   "metadata": {},
   "outputs": [],
   "source": [
    "#Create a function that accepts a list of integers, and returns a list of bool.\n",
    "#The return list should be a \"mask\" and indicate whether the list element is odd or not.\n",
    "#(return should look like this: [True,False,False,.....])\n",
    "#return type: list\n",
    "#function name must be: is_odd\n",
    "#input parameters: input_list"
   ]
  },
  {
   "cell_type": "code",
   "execution_count": 28,
   "metadata": {},
   "outputs": [],
   "source": [
    "ints = [1,2,3,4,5]\n",
    "#ints = [1,3,5,7,9]\n",
    "#I am not sure if mask means if I have to rewrite the content of the original list\n",
    "    #that's why the second function is commented out\n",
    "def is_odd(input_list):\n",
    "    output = []\n",
    "    for i in range(len(input_list)):\n",
    "        if input_list[i] % 2 == 0:\n",
    "            output.append(True)\n",
    "        else:\n",
    "            output.append(False)\n",
    "    return output\n",
    "\n",
    "#def is_odd(input_list):\n",
    "#    output = []\n",
    "#    for i in range(len(input_list)):\n",
    "#        if input_list[i] % 2 == 0:\n",
    "#            input_list[i] = True\n",
    "#        else:\n",
    "#            input_list[i] = False\n",
    "#    return output\n",
    "\n",
    "output_list = is_odd(ints)\n",
    "\n",
    "#for i in range(len(output_list)):\n",
    "#    print(output_list[i])"
   ]
  },
  {
   "cell_type": "code",
   "execution_count": 29,
   "metadata": {},
   "outputs": [],
   "source": [
    "\n",
    "#Create a function that accpects 2 lists of integers and returns their element wise sum. <br>\n",
    "#(return should be a list)\n",
    "#return type: list\n",
    "#function name must be: element_wise_sum\n",
    "#input parameters: input_list_1, input_list_2"
   ]
  },
  {
   "cell_type": "code",
   "execution_count": 6,
   "metadata": {},
   "outputs": [
    {
     "name": "stdout",
     "output_type": "stream",
     "text": [
      "2\n",
      "3\n",
      "4\n",
      "5\n",
      "1\n"
     ]
    }
   ],
   "source": [
    "input_list_1 = [1,2,3,4]\n",
    "input_list_2 = [1,1,1,1,1]\n",
    "#input_list_2 = [1,1,1,1]\n",
    "#input_list_2 = [1,1,1]\n",
    "\n",
    "def element_wise_sum(input_list_1, input_list_2):\n",
    "    output=[]\n",
    "    ct1 = 0\n",
    "    ct2 = 0\n",
    "    for i in range(len(input_list_1)):\n",
    "        output.append(input_list_1[i])\n",
    "        ct1 += 1\n",
    "    for i in range(len(input_list_2)):\n",
    "        if (i < len(output)):\n",
    "            output[i] = output[i] + input_list_2[i]\n",
    "        else: output.append(input_list_2[i])\n",
    "        ct2 += 1\n",
    "    \n",
    "    if (ct1 > ct2):\n",
    "        while ct1 < len(input_list_1):\n",
    "            output.append(input_list_1[ct1])\n",
    "            ct1 += 1\n",
    "    if (ct1 < ct2):\n",
    "        while ct2 < len(input_list_2):\n",
    "            output.append(input_list_2[ct2])\n",
    "            ct2 += 1\n",
    "\n",
    "\n",
    "    return output\n",
    "\n",
    "output_list = element_wise_sum(input_list_1, input_list_2)\n",
    "for i in range(len(output_list)):\n",
    "    print(output_list[i])\n"
   ]
  },
  {
   "cell_type": "code",
   "execution_count": 31,
   "metadata": {},
   "outputs": [],
   "source": [
    "#Create a function that accepts a dictionary and returns its items as a list of tuples\n",
    "#(return should look like this: [(key,value),(key,value),....])\n",
    "#return type: list\n",
    "#function name must be: dict_to_list\n",
    "#input parameters: input_dict"
   ]
  },
  {
   "cell_type": "code",
   "execution_count": 32,
   "metadata": {},
   "outputs": [],
   "source": [
    "input_dict = {\n",
    "  \"conference\" : \"Western\",\n",
    "  \"Division\": \"Pacific\",\n",
    "  \"Founded\": 1946,\n",
    "  \"Colors\": [\"Royal Blue\", \"yellow\"],\n",
    "  \"GM\": \"Bob Myers\",\n",
    "  \"Head Coach\": \"Steve Kerr\"\n",
    "}\n",
    "def dict_to_list(input_dict):\n",
    "    output = []\n",
    "    for x, y in input_dict.items():\n",
    "        output.append((x,y))\n",
    "    return output\n",
    "\n",
    "output = dict_to_list(input_dict)\n",
    "#for i in range(len(output)):\n",
    "#    print(output[i])"
   ]
  },
  {
   "cell_type": "code",
   "execution_count": 33,
   "metadata": {},
   "outputs": [],
   "source": [
    "#If all the functions are created convert this notebook into a .py file and push to your repo"
   ]
  }
 ],
 "metadata": {
  "kernelspec": {
   "display_name": "Python 3",
   "language": "python",
   "name": "python3"
  },
  "language_info": {
   "codemirror_mode": {
    "name": "ipython",
    "version": 3
   },
   "file_extension": ".py",
   "mimetype": "text/x-python",
   "name": "python",
   "nbconvert_exporter": "python",
   "pygments_lexer": "ipython3",
   "version": "3.10.2"
  },
  "orig_nbformat": 4,
  "vscode": {
   "interpreter": {
    "hash": "c0c6298d94c85f8333144cb060589260a7caa3af4ddfb829d544c1f7eb933ad3"
   }
  }
 },
 "nbformat": 4,
 "nbformat_minor": 2
}
