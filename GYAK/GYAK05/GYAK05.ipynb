{
 "cells": [
  {
   "cell_type": "code",
   "execution_count": null,
   "metadata": {},
   "outputs": [],
   "source": [
    "import numpy as np\n",
    "from typing import Tuple"
   ]
  },
  {
   "cell_type": "code",
   "execution_count": null,
   "metadata": {},
   "outputs": [],
   "source": [
    "'''\n",
    "Mudliból kapott .csv file-t és feladatleírást felhasználva kell megvalósítani a felhasználni kívánt fv-eket\n",
    "'''"
   ]
  },
  {
   "cell_type": "code",
   "execution_count": 10,
   "metadata": {},
   "outputs": [
    {
     "data": {
      "text/plain": [
       "((150, 4), (150,))"
      ]
     },
     "execution_count": 10,
     "metadata": {},
     "output_type": "execute_result"
    }
   ],
   "source": [
    "#basic .csv import inti (x,y) tuple\n",
    "\n",
    "def load_csv(cs_path : str):\n",
    "    np.random.seed(42)\n",
    "    dataset = np.genfromtxt(cs_path, delimiter=',')\n",
    "    np.random.shuffle(dataset)\n",
    "    x,y = dataset[:, :-1],dataset[:, -1]\n",
    "    return x,y\n",
    "\n",
    "x,y = load_csv(\"iris.csv\")\n",
    "x.shape,y.shape"
   ]
  },
  {
   "cell_type": "code",
   "execution_count": null,
   "metadata": {},
   "outputs": [],
   "source": [
    "# this is kinda shitty\n",
    "#np.mean(x, axis=0), np.var(x, axis=0)"
   ]
  },
  {
   "cell_type": "code",
   "execution_count": null,
   "metadata": {},
   "outputs": [],
   "source": [
    "np.nanmean(x, axis=0), np.nanvar(y, axis=0)"
   ]
  },
  {
   "cell_type": "code",
   "execution_count": null,
   "metadata": {},
   "outputs": [],
   "source": [
    "x[np.isnan(x)] = 3.5"
   ]
  },
  {
   "cell_type": "code",
   "execution_count": 18,
   "metadata": {},
   "outputs": [
    {
     "name": "stdout",
     "output_type": "stream",
     "text": [
      "(array([], dtype=int64), array([], dtype=int64))\n",
      "(array([], dtype=int64), array([], dtype=int64))\n"
     ]
    }
   ],
   "source": [
    "less_than_zero = np.where(x < 0.0)\n",
    "higher_than_ten = np.where(x > 10.0)\n",
    "\n",
    "print(less_than_zero)\n",
    "print(higher_than_ten)"
   ]
  },
  {
   "cell_type": "code",
   "execution_count": 17,
   "metadata": {},
   "outputs": [
    {
     "data": {
      "text/plain": [
       "array([], dtype=float64)"
      ]
     },
     "execution_count": 17,
     "metadata": {},
     "output_type": "execute_result"
    }
   ],
   "source": [
    "x[np.where(np.logical_or(x > 10.0, x < 0.0))]"
   ]
  },
  {
   "cell_type": "code",
   "execution_count": 16,
   "metadata": {},
   "outputs": [],
   "source": [
    "#delete sorindexeket vár axis=0-ra\n",
    "#ezek után tisztább lesz a data\n",
    "\n",
    "y = np.delete(y, np.where(x <0.0)[0], axis=0)\n",
    "y = np.delete(y, np.where(x>10.0)[0], axis=0)\n",
    "x = np.delete(x, np.where(x <0.0)[0], axis=0)\n",
    "x = np.delete(x, np.where(x>10.0)[0], axis=0)"
   ]
  },
  {
   "attachments": {},
   "cell_type": "markdown",
   "metadata": {},
   "source": [
    "\n",
    "## BELOW COMES THE KNN\n",
    "### Train test split function:"
   ]
  },
  {
   "cell_type": "code",
   "execution_count": 21,
   "metadata": {},
   "outputs": [],
   "source": [
    "def train_test_splitting(features: np.ndarray,\n",
    "                        labels: np.ndarray,\n",
    "                        test_split_ratio: float):\n",
    "    \n",
    "    #meghatározzuk, hogy hol szeretnénk ketté vágni\n",
    "    #ebből fog adódni, hogy mekkora a train_size\n",
    "    test_size = int(len(features) * test_split_ratio)\n",
    "\n",
    "    train_size = len(features)-test_size\n",
    "    assert len(features) == test_size + train_size, \"Size mismatch!\"\n",
    "\n",
    "    x_train, y_train = features[:train_size, :], labels[:train_size]\n",
    "    x_test, y_test = features[train_size:, :], labels[train_size:]\n",
    "\n",
    "    return (x_train, y_train, x_test, y_test)"
   ]
  },
  {
   "cell_type": "code",
   "execution_count": 22,
   "metadata": {},
   "outputs": [],
   "source": [
    "x_train, y_train, x_test, y_test = train_test_splitting(x, y, 0.2)"
   ]
  },
  {
   "attachments": {},
   "cell_type": "markdown",
   "metadata": {},
   "source": [
    "### KNN logic implementation:"
   ]
  },
  {
   "cell_type": "code",
   "execution_count": null,
   "metadata": {},
   "outputs": [],
   "source": [
    "def euclidean(points: np.ndarray, element_of_x: np.ndarray) -> np.ndarray:\n",
    "    return np.sqrt(np.sum((points - element_of_x)**2, axis=0))"
   ]
  },
  {
   "cell_type": "code",
   "execution_count": null,
   "metadata": {},
   "outputs": [],
   "source": [
    "def predict(x_train: np.ndarray,\n",
    "            y_train: np.ndarray,\n",
    "            x_test: np.ndarray,\n",
    "            k:int):\n",
    "    labels_pred = []\n",
    "    for x_test_element in x_test:\n",
    "        # Táv\n",
    "        distances = euclidean(x_train, x_test_element)\n",
    "        distances = np.array(sorted(zip(distances, y_train)))\n",
    "        #Leggyakoribb value\n",
    "        labels_pred = mode(distances[:k, 1], keepdims =False).mode\n",
    "        labels_pred.append(labels_pred)\n",
    "\n",
    "    return np.array(labels_pred, dtype=np.int64)"
   ]
  },
  {
   "cell_type": "code",
   "execution_count": null,
   "metadata": {},
   "outputs": [],
   "source": []
  }
 ],
 "metadata": {
  "kernelspec": {
   "display_name": "Python 3",
   "language": "python",
   "name": "python3"
  },
  "language_info": {
   "codemirror_mode": {
    "name": "ipython",
    "version": 3
   },
   "file_extension": ".py",
   "mimetype": "text/x-python",
   "name": "python",
   "nbconvert_exporter": "python",
   "pygments_lexer": "ipython3",
   "version": "3.10.3"
  },
  "orig_nbformat": 4
 },
 "nbformat": 4,
 "nbformat_minor": 2
}
