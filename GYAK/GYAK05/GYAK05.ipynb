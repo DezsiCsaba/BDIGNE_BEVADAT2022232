{
 "cells": [
  {
   "cell_type": "code",
   "execution_count": null,
   "metadata": {},
   "outputs": [],
   "source": [
    "import numpy as np\n",
    "from scipy.stats import mode\n",
    "from sklearn.metrics import confusion_matrix"
   ]
  },
  {
   "cell_type": "code",
   "execution_count": null,
   "metadata": {},
   "outputs": [],
   "source": [
    "class KNNClassifier():\n",
    "    def __init__(self, k:int, test_split_ratio:float):\n",
    "        self.k = k\n",
    "        self.test_split_ratio = test_split_ratio\n",
    "\n",
    "    @property\n",
    "    def k_neighbors(self) -> int:\n",
    "        return self.k\n",
    "\n",
    "    def confusion_matrix(self) -> np.ndarray:\n",
    "        return confusion_matrix(self.y_test, self.y_preds)\n",
    "\n",
    "    @staticmethod\n",
    "    def load_csv(cs_path : str):\n",
    "        np.random.seed(42)\n",
    "        dataset = np.genfromtxt(cs_path, delimiter=',')\n",
    "        np.random.shuffle(dataset)\n",
    "        x,y = dataset[:, :-1],dataset[:, -1]\n",
    "        return x,y\n",
    "\n",
    "    def train_test_splitting(self, features: np.ndarray, labels: np.ndarray,):\n",
    "        \n",
    "        test_size = int(len(features) * self.test_split_ratio)\n",
    "\n",
    "        train_size = len(features)-test_size\n",
    "        assert len(features) == test_size + train_size, \"Size mismatch!\"\n",
    "\n",
    "        self.x_train, self.y_train = features[:train_size, :], labels[:train_size]\n",
    "        self.x_test, self.y_test = features[train_size:, :], labels[train_size:]\n",
    "\n",
    "    \n",
    "    \n",
    "    def euclidean(self, element_of_x: np.ndarray) -> np.ndarray:\n",
    "        return np.sqrt(np.sum((self.x_train - element_of_x)**2, axis=0))\n",
    "    \n",
    "\n",
    "\n",
    "    def predict(self, x_test: np.ndarray):\n",
    "        labels_pred = []\n",
    "        for x_test_element in x_test:\n",
    "            # Táv\n",
    "            distances = self.euclidean(self.x_train, x_test_element)\n",
    "            distances = np.array(sorted(zip(distances, self.y_train)))\n",
    "            #Leggyakoribb value\n",
    "            #dist móduszán\n",
    "            labels_pred = mode(distances[:self.k, 1], keepdims =False).mode\n",
    "            labels_pred.append(labels_pred)\n",
    "        self.y_preds = np.array(labels_pred, dtype=np.int64)\n",
    "\n",
    "\n",
    "\n",
    "    def accuracy(self)->float:\n",
    "        true_positive= (self.y_test == self.y_preds).sum()\n",
    "        return true_positive / len(self.y_test) *100"
   ]
  },
  {
   "cell_type": "code",
   "execution_count": null,
   "metadata": {},
   "outputs": [],
   "source": [
    "classifier = KNNClassifier(10,0.3)\n",
    "classifier.load_csv(\"iris.csv\")"
   ]
  },
  {
   "cell_type": "code",
   "execution_count": null,
   "metadata": {},
   "outputs": [],
   "source": []
  }
 ],
 "metadata": {
  "kernelspec": {
   "display_name": "Python 3",
   "language": "python",
   "name": "python3"
  },
  "language_info": {
   "codemirror_mode": {
    "name": "ipython",
    "version": 3
   },
   "file_extension": ".py",
   "mimetype": "text/x-python",
   "name": "python",
   "nbconvert_exporter": "python",
   "pygments_lexer": "ipython3",
   "version": "3.10.8"
  },
  "orig_nbformat": 4
 },
 "nbformat": 4,
 "nbformat_minor": 2
}
